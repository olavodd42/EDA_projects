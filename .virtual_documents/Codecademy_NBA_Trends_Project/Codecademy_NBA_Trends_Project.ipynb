





import pandas as pd
import numpy as np
from scipy.stats import pearsonr, chi2_contingency
import matplotlib.pyplot as plt
%matplotlib inline
import seaborn as sns



#to make the output look nicer
np.set_printoptions(suppress=True, precision = 2)


nba = pd.read_csv('nba_games.csv')
nba.head()


# Subset Data to 2010 Season, 2014 Season
nba_2010 = nba[nba.year_id == 2010]
nba_2014 = nba[nba.year_id == 2014]





knicks_pts = nba_2010[nba_2010.fran_id == "Knicks"]
nets_pts = nba_2010[nba_2010.fran_id == "Nets"]


knicks_pts


nets_pts





# knicks_pts = nba_2014[nba_2014.fran_id == "Knicks"]
# nets_pts = nba_2010[nba_2014.fran_id == "Nets"]
diff_means_2010 = knicks_pts.pts.mean() - nets_pts.pts.mean()
print(f'The difference between the average of Knicks\' and nets\' points is {diff_means_2010:.2f}')








plt.hist(knicks_pts.pts, color='green', label='Knicks', density=True, alpha=.5)
plt.hist(nets_pts.pts, color='blue', label='Nets', density=True, alpha=.5)
plt.legend()
plt.show()
plt.clf()








knicks_pts = nba_2014[nba_2014.fran_id == "Knicks"]
nets_pts = nba_2014[nba_2014.fran_id == "Nets"]
diff_means_2014 = knicks_pts.pts.mean() - nets_pts.pts.mean()
print(f'The difference between the average of Knicks\' and nets\' points is {diff_means_2010:.2f}')





plt.hist(knicks_pts.pts, color='green', label='Knicks', density=True, alpha=.5)
plt.hist(nets_pts.pts, color='blue', label='Nets', density=True, alpha=.5)
plt.legend()
plt.show()
plt.clf()








sns.boxplot(data=nba_2010, x='fran_id', y = 'pts')
plt.savefig('boxplot.png')
plt.show()
plt.clf()





location_result_freq = pd.crosstab(nba.game_result, nba.game_location)
location_result_freq








location_result_proportions = location_result_freq / len(nba)
location_result_proportions





chi2,_,_,expected = chi2_contingency(location_result_freq)
np.round(expected)





print(f'Chi2 statistic: {chi2}')











forecast_point_diff_cov = np.cov(nba_2010.forecast, nba_2010.point_diff)
forecast_point_diff_cov








point_diff_forecast_corr,_ = pearsonr(nba_2010.forecast, nba_2010.point_diff)
print(f'The correlation between forecast and point_diff is {point_diff_forecast_corr:.2f}')








plt.scatter(x=nba_2010.forecast,y=nba_2010.point_diff)
plt.xlabel('538\'s forecast')
plt.ylabel('Difference of points')
plt.title('Forecast vs Points difference')
plt.show()
plt.close()






